{
 "cells": [
  {
   "cell_type": "markdown",
   "metadata": {
    "colab_type": "text",
    "id": "5JElk5w16Oek"
   },
   "source": [
    "# Convolutional Neural Networks in tensorflow and keras\n",
    "\n",
    "### Objective:\n",
    "\n",
    "We want to implement a Convolutional Neural Network (CNN) to do image recognition. For this we will use the well-known CIFAR-10 dataset https://www.cs.toronto.edu/~kriz/cifar.html.\n",
    "\n",
    "The CIFAR-10 dataset consists of 60000 32x32 colour images in 10 classes, with 6000 images per class. There are 50000 training images and 10000 test images.\n",
    "\n",
    "We will first code the simple ConvNet described below using \n",
    "- tensorflow https://www.tensorflow.org\n",
    "\n",
    "then do the same using\n",
    "- keras : https://keras.io\n",
    "\n",
    "\n",
    "The input of the CNN is a set of (32,32,3) image tensors. We apply :\n",
    "\n",
    "    - a Convolutional layer of 32 filters of shape (3,3), with stride (1,1) and padding='same' (i.e. we do not apply zero-padding)\n",
    "    - a ReLu activation function\n",
    "    \n",
    "    - a Convolutional layer of 32 filters of shape (3,3), with stride (1,1) and padding='same' (i.e. we do not apply zero-padding)\n",
    "    - a ReLu activation function\n",
    "    - a Max Pooling Layer of shape (2,2) and stride (2,2) (i.e. we reduce by two the size in each dimension)\n",
    "    \n",
    "    - a Convolutional layer of 32 filters of shape (3,3), with stride (1,1) and padding='same' (i.e. we do not apply zero-padding)\n",
    "    - a ReLu activation function\n",
    "    - a Max Pooling Layer of shape (2,2) and stride (2,2) (i.e. we reduce by two the size in each dimension)\n",
    "    \n",
    "    - We then Flatten the data (reduce them to a vector in order to be able to apply a Fully-Connected layer to it)\n",
    "    - A softmax activation function which outputs are the $P(y_c | X)$ (multi-class problem)"
   ]
  },
  {
   "cell_type": "markdown",
   "metadata": {
    "colab_type": "text",
    "id": "as4xm2X46Oen"
   },
   "source": [
    "# Load packages"
   ]
  },
  {
   "cell_type": "code",
   "execution_count": 0,
   "metadata": {
    "colab": {},
    "colab_type": "code",
    "id": "OiLYWu376Oep"
   },
   "outputs": [],
   "source": [
    "%matplotlib inline\n",
    "import matplotlib.pyplot as plt\n",
    "import numpy as np"
   ]
  },
  {
   "cell_type": "markdown",
   "metadata": {
    "colab_type": "text",
    "id": "Y1KJy1p16Oeu"
   },
   "source": [
    "## Import data\n",
    "\n",
    "We first import CIFAR-10 dataset."
   ]
  },
  {
   "cell_type": "code",
   "execution_count": 0,
   "metadata": {
    "colab": {
     "base_uri": "https://localhost:8080/",
     "height": 170
    },
    "colab_type": "code",
    "id": "va47lZLp6Oev",
    "outputId": "ed6821a8-1672-404f-85b0-7a8c3810a289"
   },
   "outputs": [
    {
     "name": "stderr",
     "output_type": "stream",
     "text": [
      "Using TensorFlow backend.\n"
     ]
    },
    {
     "data": {
      "text/html": [
       "<p style=\"color: red;\">\n",
       "The default version of TensorFlow in Colab will soon switch to TensorFlow 2.x.<br>\n",
       "We recommend you <a href=\"https://www.tensorflow.org/guide/migrate\" target=\"_blank\">upgrade</a> now \n",
       "or ensure your notebook will continue to use TensorFlow 1.x via the <code>%tensorflow_version 1.x</code> magic:\n",
       "<a href=\"https://colab.research.google.com/notebooks/tensorflow_version.ipynb\" target=\"_blank\">more info</a>.</p>\n"
      ],
      "text/plain": [
       "<IPython.core.display.HTML object>"
      ]
     },
     "metadata": {
      "tags": []
     },
     "output_type": "display_data"
    },
    {
     "name": "stdout",
     "output_type": "stream",
     "text": [
      "Downloading data from https://www.cs.toronto.edu/~kriz/cifar-10-python.tar.gz\n",
      "170500096/170498071 [==============================] - 6s 0us/step\n",
      "(50000, 32, 32, 3)\n",
      "(10000, 32, 32, 3)\n",
      "[0 1 2 3 4 5 6 7 8 9]\n"
     ]
    }
   ],
   "source": [
    "from keras.utils.np_utils import to_categorical\n",
    "\n",
    "from keras.datasets import cifar10\n",
    "(X_train, y_train), (X_test, y_test) = cifar10.load_data()\n",
    "\n",
    "print(X_train.shape)\n",
    "print(X_test.shape)\n",
    "print(np.unique(y_train))"
   ]
  },
  {
   "cell_type": "markdown",
   "metadata": {
    "colab_type": "text",
    "id": "iu_1sXr06Oe1"
   },
   "source": [
    "The CIFAR-10 dataset has 10 classes. These are the following :"
   ]
  },
  {
   "cell_type": "code",
   "execution_count": 0,
   "metadata": {
    "colab": {},
    "colab_type": "code",
    "id": "amEq4xH56Oe3"
   },
   "outputs": [],
   "source": [
    "cifar_10_list = [ 'airplane', 'automobile','bird','cat','deer','dog','frog','horse','ship','truck']"
   ]
  },
  {
   "cell_type": "markdown",
   "metadata": {
    "colab_type": "text",
    "id": "Qho5SNRf6Oe8"
   },
   "source": [
    "### Display some of the images"
   ]
  },
  {
   "cell_type": "code",
   "execution_count": 0,
   "metadata": {
    "colab": {
     "base_uri": "https://localhost:8080/",
     "height": 338
    },
    "colab_type": "code",
    "id": "LKEZMzwu6Oe9",
    "outputId": "d66ddd23-0207-4828-de8d-1bcf06acda72"
   },
   "outputs": [
    {
     "data": {
      "image/png": "[encoded data removed]",
      "text/plain": [
       "<Figure size 720x432 with 10 Axes>"
      ]
     },
     "metadata": {
      "tags": []
     },
     "output_type": "display_data"
    }
   ],
   "source": [
    "plt.figure(figsize=(10, 6))\n",
    "for idx,i in enumerate(range(100,110)):\n",
    "    plt.subplot(2, 5, idx+1)\n",
    "    plt.imshow(X_train[i, :, :, :])\n",
    "    plt.title(cifar_10_list[int(y_train[i])])"
   ]
  },
  {
   "cell_type": "code",
   "execution_count": 0,
   "metadata": {
    "colab": {
     "base_uri": "https://localhost:8080/",
     "height": 35
    },
    "colab_type": "code",
    "id": "MGd1jBlQ6OfB",
    "outputId": "80137c4c-8875-4e77-97c4-ddbcd7e94457"
   },
   "outputs": [
    {
     "data": {
      "text/plain": [
       "(50000, 1)"
      ]
     },
     "execution_count": 5,
     "metadata": {
      "tags": []
     },
     "output_type": "execute_result"
    }
   ],
   "source": [
    "y_train.shape"
   ]
  },
  {
   "cell_type": "markdown",
   "metadata": {
    "colab_type": "text",
    "id": "POBwp5SH6OfG"
   },
   "source": [
    "## Format conversion\n",
    "\n",
    "We now convert the format of the data. In the case of CNNs, and contrary to MLPs, the inputs are not simply vectors of arbitrary size. For example, in the case of images, it is important to distinguish the different dimensions (otherwise the network would not know how to carry out convolutions). Therefore, we need to carry out the following operation :\n",
    "\n",
    "- reshape the input ```X_train```and ```X_test``` to a set of matrices of size (32,32) and depth 3 (for the 3 R,G,B colors), convert the data to float32 and normalize them in the range [0,1]. The final dimensions of the image data should be : [batch_size, height, width, n_channels]\n",
    "\n",
    "Furthermore, we must also convert the label vectors to matrices with k columns, where k is the number of classes. This allows us to carry out the cross-entropy for multi-class problems. Therefore :\n",
    "\n",
    "- convert the output label ```y_train``` and ```y_test``` to one-hot encoding format."
   ]
  },
  {
   "cell_type": "code",
   "execution_count": 0,
   "metadata": {
    "colab": {
     "base_uri": "https://localhost:8080/",
     "height": 124
    },
    "colab_type": "code",
    "id": "PZkGtJXO6OfJ",
    "outputId": "c519f7eb-c341-475f-c0fd-43adbfec74d8"
   },
   "outputs": [
    {
     "name": "stdout",
     "output_type": "stream",
     "text": [
      "X_train shape: (50000, 32, 32, 3)\n",
      "y_train shape: (50000, 1)\n",
      "Y_train shape: (50000, 10)\n",
      "There is 50000 train data\n",
      "There is 10000 test data\n",
      "32 32 3\n"
     ]
    }
   ],
   "source": [
    "# input image dimensions\n",
    "img_rows, img_cols, nb_channels = 32, 32, 3\n",
    "nb_classes = 10\n",
    "\n",
    "# In case depth is 1 (black and white pictures) -> reshape to proper format\n",
    "X_train = X_train.reshape(X_train.shape[0], img_rows, img_cols, nb_channels)\n",
    "X_test = X_test.reshape(X_test.shape[0], img_rows, img_cols, nb_channels)\n",
    "\n",
    "X_train = X_train.astype('float32')\n",
    "X_test = X_test.astype('float32')\n",
    "X_train /= 255\n",
    "X_test /= 255\n",
    "\n",
    "Y_train = to_categorical(y_train)\n",
    "Y_test = to_categorical(y_test)\n",
    "\n",
    "print('X_train shape:', X_train.shape)\n",
    "print('y_train shape:', y_train.shape)\n",
    "print('Y_train shape:', Y_train.shape)\n",
    "print('There is {} train data'.format(X_train.shape[0]))\n",
    "print('There is {} test data'.format(X_test.shape[0]))\n",
    "print(img_rows, img_cols, nb_channels)"
   ]
  },
  {
   "cell_type": "markdown",
   "metadata": {
    "colab_type": "text",
    "id": "GIcOIgzi6OfO"
   },
   "source": [
    "For memory and speed reasons, we are going to reduce the amount of training data :"
   ]
  },
  {
   "cell_type": "code",
   "execution_count": 0,
   "metadata": {
    "colab": {
     "base_uri": "https://localhost:8080/",
     "height": 52
    },
    "colab_type": "code",
    "id": "_OxKnauP6OfP",
    "outputId": "98678f7c-667a-4553-bbee-2df84b1a0b0f"
   },
   "outputs": [
    {
     "name": "stdout",
     "output_type": "stream",
     "text": [
      "(10000, 32, 32, 3)\n",
      "(10000, 10)\n"
     ]
    }
   ],
   "source": [
    "n_train_samples = 10000\n",
    "X_train = X_train[0:n_train_samples,:,:,:]\n",
    "Y_train = Y_train[0:n_train_samples,:]\n",
    "print(X_train.shape)\n",
    "print(Y_train.shape)"
   ]
  },
  {
   "cell_type": "markdown",
   "metadata": {
    "colab_type": "text",
    "id": "R7Yrc0-36OfT"
   },
   "source": [
    "# 1. CNN with tensorflow\n",
    "\n",
    "We are now going to create a CNN with Tensorflow, and train it on the previously loaded CIFAR dataset.\n",
    "- First define the input and output using ```tf.placeholder```\n",
    "- Define the weights and biases of the CNN using ```tf.variable``` or ```tf.get_variable```\n",
    "    - We can initialize them using ```tf.contrib.layers.xavier_initializer```(see https://www.tensorflow.org/api_docs/python/tf/contrib/layers/xavier_initializer)\n",
    "- Perform the convolution using ```tf.nn.conv2d``` \n",
    "- Apply the activation function using ```tf.nn.relu```\n",
    "- Perform the max pooling using ```tf.nn.max_pool```\n",
    "- Flatten the output of the convolution using ```tf.contrib.layers.flatten```\n",
    "- Perform the Fully-Connected part using ```tf.contrib.layers.fully_connected```\n",
    "\n",
    "Also, note that in Tensorflow, we can carry out the softmax + cross entropy all in one step with the following function :\n",
    "\n",
    "- ```tf.nn.softmax_cross_entropy_with_logits()```\n",
    "\n",
    "This has the advantage of being optimised and stabilised by the programmers who wrote Tensorflow, so that we do not have numerical problems.\n",
    "\n",
    "$\\textbf{IMPORTANT NOTE}$ : Please note that this part in Tensorflow is just so that we have had some experience with CNNs in Tensorflow. So do not spend a lot of time trying to get great accuracy results. If we want to do this, do it in the Keras part."
   ]
  },
  {
   "cell_type": "code",
   "execution_count": 0,
   "metadata": {
    "colab": {},
    "colab_type": "code",
    "id": "HBC1AlcZ6OfW"
   },
   "outputs": [],
   "source": [
    "import tensorflow as tf\n",
    "\n",
    "learning_rate = 0.01\n",
    "n_epochs = 20\n",
    "batch_size = 64\n",
    "\n",
    "# number of convolutional filters to use\n",
    "nb_filters = 32\n",
    "# convolution kernel size\n",
    "kernel_size = (3, 3)\n",
    "# size of pooling area for max pooling\n",
    "pool_size = (2, 2)\n",
    "\n",
    "\n",
    "# --- Size of the successice layers\n",
    "n_h_0 = nb_channels\n",
    "n_h_1 = nb_filters\n",
    "n_h_2 = nb_filters\n",
    "n_h_3 = nb_filters"
   ]
  },
  {
   "cell_type": "code",
   "execution_count": null,
   "metadata": {
    "colab": {
     "base_uri": "https://localhost:8080/",
     "height": 428
    },
    "colab_type": "code",
    "id": "x5wvJVUt6Ofc",
    "outputId": "bc90335d-44d2-4c26-f93e-76fd082095ac"
   },
   "outputs": [],
   "source": [
    "tf.reset_default_graph()\n",
    "\n",
    "# input tensor are of shape [batch, in_height, in_width, in_channels]  \n",
    "# filter / kernel tensor are of shape [filter_height, filter_width, in_channels, out_channels]\n",
    "\n",
    "x = tf.placeholder(\"float\", [None, img_rows, img_cols, nb_channels])\n",
    "y = tf.placeholder(\"float\", [None,nb_classes])\n",
    "\n",
    "W1 = tf.get_variable(\n",
    "    \"W1\",\n",
    "    shape=[kernel_size[0], kernel_size[1], n_h_0, n_h_1],\n",
    "    initializer = tf.contrib.layers.xavier_initializer(seed = 0)\n",
    ")\n",
    "\n",
    "W2 = tf.get_variable(\n",
    "    \"W2\",\n",
    "    shape=[kernel_size[0], kernel_size[1], n_h_1, n_h_2],\n",
    "    initializer = tf.contrib.layers.xavier_initializer(seed = 0)\n",
    ")\n",
    "\n",
    "W3 = tf.get_variable(\n",
    "    \"W3\",\n",
    "    shape=[kernel_size[0], kernel_size[1], n_h_2, n_h_3],\n",
    "    initializer = tf.contrib.layers.xavier_initializer(seed = 0)\n",
    ")\n",
    "\n",
    "b1 = tf.get_variable(\"b1\", [n_h_1], initializer = tf.contrib.layers.xavier_initializer(seed = 0))\n",
    "b2 = tf.get_variable(\"b2\", [n_h_2], initializer = tf.contrib.layers.xavier_initializer(seed = 0))\n",
    "b3 = tf.get_variable(\"b3\", [n_h_3], initializer = tf.contrib.layers.xavier_initializer(seed = 0))\n",
    "\n",
    "#perform the 1rst convolution : \n",
    "Z1 = tf.nn.conv2d(x, W1, strides = [1,1,1,1], padding = 'VALID')\n",
    "#ReLu activation\n",
    "A1 = tf.nn.relu(Z1+b1)\n",
    "\n",
    "#perform the 2nd convolution : \n",
    "Z2 = tf.nn.conv2d(A1, W2, strides = [1,1,1,1], padding = 'VALID')\n",
    "#Relu\n",
    "A2 = tf.nn.relu(Z2+b2)\n",
    "#MaxPool\n",
    "P2 = tf.nn.max_pool(A2, ksize = [1, pool_size[0], pool_size[0], 1], strides = [1, pool_size[0], pool_size[0], 1], padding = 'VALID')\n",
    "\n",
    "#Convolution\n",
    "Z3 = tf.nn.conv2d(P2, W3, strides = [1,1,1,1], padding = 'VALID')\n",
    "#ReLu\n",
    "A3 = tf.nn.relu(Z3+b3)\n",
    "#Max_Pool\n",
    "P3 = tf.nn.max_pool(A3, ksize = [1, pool_size[0], pool_size[0], 1], strides = [1, pool_size[0], pool_size[0], 1], padding = 'VALID')\n",
    "#Flatten the output\n",
    "P3 = tf.contrib.layers.flatten(P3)\n",
    "#Fully Connected\n",
    "Z4 = tf.contrib.layers.fully_connected(inputs=P3, num_outputs=nb_classes, activation_fn=None)\n",
    "# --- END CODE HERE\n",
    "\n",
    "cost = tf.reduce_mean(tf.nn.softmax_cross_entropy_with_logits(logits = Z4, labels = y))\n",
    "optimizer = tf.train.AdamOptimizer(learning_rate = learning_rate).minimize(cost)"
   ]
  },
  {
   "cell_type": "markdown",
   "metadata": {
    "colab_type": "text",
    "id": "B8sPytW56Ofk"
   },
   "source": [
    "## Train the model"
   ]
  },
  {
   "cell_type": "code",
   "execution_count": 0,
   "metadata": {
    "colab": {
     "base_uri": "https://localhost:8080/",
     "height": 704
    },
    "colab_type": "code",
    "id": "CxwC-M096Ofm",
    "outputId": "a4b808bd-8387-4a60-9c5c-46e47b8366fb"
   },
   "outputs": [
    {
     "name": "stdout",
     "output_type": "stream",
     "text": [
      "Cost after epoch 0: 2.098981\n",
      "Cost after epoch 1: 1.710150\n",
      "Cost after epoch 2: 1.583832\n",
      "Cost after epoch 3: 1.498030\n",
      "Cost after epoch 4: 1.434169\n",
      "Cost after epoch 5: 1.384612\n",
      "Cost after epoch 6: 1.339196\n",
      "Cost after epoch 7: 1.299171\n",
      "Cost after epoch 8: 1.265729\n",
      "Cost after epoch 9: 1.237213\n",
      "Cost after epoch 10: 1.230309\n",
      "Cost after epoch 11: 1.221071\n",
      "Cost after epoch 12: 1.203070\n",
      "Cost after epoch 13: 1.184295\n",
      "Cost after epoch 14: 1.148110\n",
      "Cost after epoch 15: 1.162576\n",
      "Cost after epoch 16: 1.167101\n",
      "Cost after epoch 17: 1.185709\n",
      "Cost after epoch 18: 1.165549\n",
      "Cost after epoch 19: 1.119857\n"
     ]
    },
    {
     "data": {
      "image/png": "[encoded data removed]",
      "text/plain": [
       "<Figure size 432x288 with 1 Axes>"
      ]
     },
     "metadata": {
      "tags": []
     },
     "output_type": "display_data"
    },
    {
     "name": "stdout",
     "output_type": "stream",
     "text": [
      "Tensor(\"Mean_1:0\", shape=(), dtype=float32)\n",
      "Train Accuracy: 0.6175\n",
      "Test Accuracy: 0.4958\n"
     ]
    }
   ],
   "source": [
    "init = tf.global_variables_initializer()\n",
    "n_batches = int(np.ceil(X_train.shape[0] / float(batch_size)))\n",
    "costs = []\n",
    "X_input, Y_output = x, y\n",
    "\n",
    "\n",
    "with tf.Session() as sess:\n",
    "    sess.run(init)\n",
    "    \n",
    "    for epoch in range(n_epochs):\n",
    "        minibatch_cost = 0.\n",
    "        for batch_idx in range(n_batches):\n",
    "            # BEGIN CODE HERE\n",
    "            start = batch_idx * batch_size\n",
    "            stop = start + batch_size\n",
    "            _ , temp_cost = sess.run([optimizer, cost], feed_dict={x: X_train[start: stop,:,:,:], y: Y_train[start: stop,:]})\n",
    "            # END CODE HERE\n",
    "            minibatch_cost += temp_cost / n_batches\n",
    "\n",
    "        if epoch % 1 == 0:\n",
    "            print (\"Cost after epoch %i: %f\" % (epoch, minibatch_cost))\n",
    "            \n",
    "        costs.append(minibatch_cost) \n",
    "        \n",
    "    plt.plot(np.squeeze(costs))\n",
    "    plt.ylabel('cost')\n",
    "    plt.xlabel('iterations (per tens)')\n",
    "    plt.title(\"Learning rate =\" + str(learning_rate))\n",
    "    plt.show()\n",
    "\n",
    "    # Calculate the correct predictions\n",
    "    predict_op = tf.argmax(Z4, 1)\n",
    "    correct_prediction = tf.equal(predict_op, tf.argmax(Y_output, 1))\n",
    "\n",
    "    # Calculate accuracy on the test set\n",
    "    accuracy = tf.reduce_mean(tf.cast(correct_prediction, \"float\"))\n",
    "    print(accuracy)\n",
    "    train_accuracy = accuracy.eval({X_input: X_train, Y_output: Y_train})\n",
    "    test_accuracy = accuracy.eval({X_input: X_test, Y_output: Y_test})\n",
    "    print(\"Train Accuracy:\", train_accuracy)\n",
    "    print(\"Test Accuracy:\", test_accuracy)\n",
    "    \n"
   ]
  },
  {
   "cell_type": "markdown",
   "metadata": {
    "colab_type": "text",
    "id": "579_vCPR6Oft"
   },
   "source": [
    "# 2. CNN with keras"
   ]
  },
  {
   "cell_type": "markdown",
   "metadata": {
    "colab_type": "text",
    "id": "lOWokUuX6Ofu"
   },
   "source": [
    "We are now going to create the same network with Keras. As we shall see, the interface is quite simplified in comparison to Tensorflow.\n",
    "\n",
    "## We first import keras packages"
   ]
  },
  {
   "cell_type": "code",
   "execution_count": 0,
   "metadata": {
    "colab": {
     "base_uri": "https://localhost:8080/",
     "height": 35
    },
    "colab_type": "code",
    "id": "uapVScGl6Ofv",
    "outputId": "e49d7566-55bd-477d-eef5-700324f59651"
   },
   "outputs": [
    {
     "name": "stdout",
     "output_type": "stream",
     "text": [
      "2.2.5\n"
     ]
    }
   ],
   "source": [
    "import keras\n",
    "from keras.models import Sequential, Model\n",
    "from keras.layers import Dense, Dropout, Activation, Flatten, Input\n",
    "from keras.layers import Conv2D, MaxPooling2D\n",
    "from keras import optimizers\n",
    "print(keras.__version__)"
   ]
  },
  {
   "cell_type": "markdown",
   "metadata": {
    "colab_type": "text",
    "id": "Nj-nm8YT6Ofz"
   },
   "source": [
    "## We define the parameters of the model, and of the training"
   ]
  },
  {
   "cell_type": "code",
   "execution_count": 0,
   "metadata": {
    "colab": {},
    "colab_type": "code",
    "id": "HqGo5i9U6Of1"
   },
   "outputs": [],
   "source": [
    "input_shape = (img_rows, img_cols, nb_channels)"
   ]
  },
  {
   "cell_type": "markdown",
   "metadata": {
    "colab_type": "text",
    "id": "XjqgChXH6Of5"
   },
   "source": [
    "## Creating the CNN model in Keras using the Sequential API\n",
    "\n",
    "Keras has a simple way of adding layers to create a neural network. First, we can indicate to Keras that the model is 'sequential', that is to say, a straight-forward CNN. For this, we can use the following function :\n",
    "- ```model = Sequential()```\n",
    "\n",
    "After this, we can add layers with the function.\n",
    "\n",
    "- ```model.add()```\n",
    "\n",
    "We can then use the ```Conv2D```, ```Activation```, ```MaxPooling2D```, ```Flatten``` and ```Dense``` (fully connected) functions to specify different layer types. Note that in the case of this approach, we will have to specify the input image size in the first layer of the network. So, for example, if the first layer is convolutional :\n",
    "\n",
    "- model = Sequential()\n",
    "- model.add(Conv2D(nb_filters, kernel_size, input_shape=input_shape, name='Conv1'))\n",
    "\n",
    "\n",
    "## Creating the CNN model in Keras using the standard API\n",
    "\n",
    "Otherwise, another approach to creating the model is to explicitly create the input variable, and just cascade the different functions, as in Tensorflow. So, for the same example, we would have :\n",
    "\n",
    "- input = Input(shape=(img_rows,img_cols,nb_channels))\n",
    "- output = Conv2D(input_shape=self.img_shape,filters=nb_filters,kernel_size=kernel_size)(input)\n",
    "- model = Model(input, output)"
   ]
  },
  {
   "cell_type": "code",
   "execution_count": null,
   "metadata": {
    "colab": {
     "base_uri": "https://localhost:8080/",
     "height": 108
    },
    "colab_type": "code",
    "id": "e7fl3qaS6Of6",
    "outputId": "bc3fa7d0-b715-4b53-dae9-fd2f765c5564"
   },
   "outputs": [],
   "source": [
    "model = Sequential()\n",
    "model.add(Conv2D(nb_filters, kernel_size, input_shape=input_shape, padding ='valid'))\n",
    "model.add(Activation('relu'))\n",
    "model.add(Conv2D(nb_filters, kernel_size, input_shape=input_shape, padding ='valid'))\n",
    "model.add(Activation('relu'))\n",
    "model.add(MaxPooling2D(pool_size=pool_size))\n",
    "\n",
    "model.add(Conv2D(nb_filters, kernel_size, input_shape=input_shape, padding ='valid'))\n",
    "model.add(Activation('relu'))\n",
    "model.add(MaxPooling2D(pool_size=pool_size))\n",
    "\n",
    "model.add(Flatten(name='Flatten'))\n",
    "model.add(Dense(nb_classes))\n",
    "model.add(Activation('softmax'))\n",
    "# --- END CODE HERE"
   ]
  },
  {
   "cell_type": "markdown",
   "metadata": {
    "colab_type": "text",
    "id": "elET7lhQ6Of_"
   },
   "source": [
    "## Compile the model\n",
    "\n",
    "We define here the ```loss``` that we will minimize and the ```optimizer``` (the specific algorithm used to perform gradient descent)."
   ]
  },
  {
   "cell_type": "code",
   "execution_count": 0,
   "metadata": {
    "colab": {
     "base_uri": "https://localhost:8080/",
     "height": 108
    },
    "colab_type": "code",
    "id": "lH8rRsxr6OgA",
    "outputId": "0344846a-edde-4191-ae08-f5401e7506f0"
   },
   "outputs": [
    {
     "name": "stdout",
     "output_type": "stream",
     "text": [
      "WARNING:tensorflow:From /usr/local/lib/python3.6/dist-packages/keras/optimizers.py:793: The name tf.train.Optimizer is deprecated. Please use tf.compat.v1.train.Optimizer instead.\n",
      "\n",
      "WARNING:tensorflow:From /usr/local/lib/python3.6/dist-packages/keras/backend/tensorflow_backend.py:3576: The name tf.log is deprecated. Please use tf.math.log instead.\n",
      "\n"
     ]
    }
   ],
   "source": [
    "model.compile(loss='categorical_crossentropy',\n",
    "              optimizer=optimizers.Adam(lr=learning_rate),\n",
    "              metrics=['accuracy'])"
   ]
  },
  {
   "cell_type": "markdown",
   "metadata": {
    "colab_type": "text",
    "id": "SWz_Z8Y46OgE"
   },
   "source": [
    "## We display a summary of the model created (but not yet trained)"
   ]
  },
  {
   "cell_type": "code",
   "execution_count": 0,
   "metadata": {
    "colab": {
     "base_uri": "https://localhost:8080/",
     "height": 550
    },
    "colab_type": "code",
    "id": "wqAg53Kk6OgG",
    "outputId": "d2687ca7-f266-4255-fa2f-10ad6c2af76d"
   },
   "outputs": [
    {
     "name": "stdout",
     "output_type": "stream",
     "text": [
      "Model: \"sequential_1\"\n",
      "_________________________________________________________________\n",
      "Layer (type)                 Output Shape              Param #   \n",
      "=================================================================\n",
      "conv2d_1 (Conv2D)            (None, 30, 30, 32)        896       \n",
      "_________________________________________________________________\n",
      "activation_1 (Activation)    (None, 30, 30, 32)        0         \n",
      "_________________________________________________________________\n",
      "conv2d_2 (Conv2D)            (None, 28, 28, 32)        9248      \n",
      "_________________________________________________________________\n",
      "activation_2 (Activation)    (None, 28, 28, 32)        0         \n",
      "_________________________________________________________________\n",
      "max_pooling2d_1 (MaxPooling2 (None, 14, 14, 32)        0         \n",
      "_________________________________________________________________\n",
      "conv2d_3 (Conv2D)            (None, 12, 12, 32)        9248      \n",
      "_________________________________________________________________\n",
      "activation_3 (Activation)    (None, 12, 12, 32)        0         \n",
      "_________________________________________________________________\n",
      "max_pooling2d_2 (MaxPooling2 (None, 6, 6, 32)          0         \n",
      "_________________________________________________________________\n",
      "Flatten (Flatten)            (None, 1152)              0         \n",
      "_________________________________________________________________\n",
      "dense_1 (Dense)              (None, 10)                11530     \n",
      "_________________________________________________________________\n",
      "activation_4 (Activation)    (None, 10)                0         \n",
      "=================================================================\n",
      "Total params: 30,922\n",
      "Trainable params: 30,922\n",
      "Non-trainable params: 0\n",
      "_________________________________________________________________\n"
     ]
    }
   ],
   "source": [
    "model.summary()"
   ]
  },
  {
   "cell_type": "markdown",
   "metadata": {
    "colab_type": "text",
    "id": "g7NGBhA26OgO"
   },
   "source": [
    "## Perform the training"
   ]
  },
  {
   "cell_type": "code",
   "execution_count": 0,
   "metadata": {
    "colab": {
     "base_uri": "https://localhost:8080/",
     "height": 1000
    },
    "colab_type": "code",
    "id": "j2QX9oml6OgR",
    "outputId": "c0d2b2f9-3b76-4236-9243-08aeb9747467"
   },
   "outputs": [
    {
     "name": "stdout",
     "output_type": "stream",
     "text": [
      "WARNING:tensorflow:From /usr/local/lib/python3.6/dist-packages/tensorflow_core/python/ops/math_grad.py:1424: where (from tensorflow.python.ops.array_ops) is deprecated and will be removed in a future version.\n",
      "Instructions for updating:\n",
      "Use tf.where in 2.0, which has the same broadcast rule as np.where\n",
      "WARNING:tensorflow:From /usr/local/lib/python3.6/dist-packages/keras/backend/tensorflow_backend.py:1033: The name tf.assign_add is deprecated. Please use tf.compat.v1.assign_add instead.\n",
      "\n"
     ]
    },
    {
     "name": "stderr",
     "output_type": "stream",
     "text": [
      "/usr/local/lib/python3.6/dist-packages/ipykernel_launcher.py:5: UserWarning: The `nb_epoch` argument in `fit` has been renamed `epochs`.\n",
      "  \"\"\"\n"
     ]
    },
    {
     "name": "stdout",
     "output_type": "stream",
     "text": [
      "WARNING:tensorflow:From /usr/local/lib/python3.6/dist-packages/keras/backend/tensorflow_backend.py:1020: The name tf.assign is deprecated. Please use tf.compat.v1.assign instead.\n",
      "\n",
      "Train on 10000 samples, validate on 10000 samples\n",
      "Epoch 1/20\n",
      "WARNING:tensorflow:From /usr/local/lib/python3.6/dist-packages/keras/backend/tensorflow_backend.py:190: The name tf.get_default_session is deprecated. Please use tf.compat.v1.get_default_session instead.\n",
      "\n",
      "WARNING:tensorflow:From /usr/local/lib/python3.6/dist-packages/keras/backend/tensorflow_backend.py:197: The name tf.ConfigProto is deprecated. Please use tf.compat.v1.ConfigProto instead.\n",
      "\n",
      "WARNING:tensorflow:From /usr/local/lib/python3.6/dist-packages/keras/backend/tensorflow_backend.py:207: The name tf.global_variables is deprecated. Please use tf.compat.v1.global_variables instead.\n",
      "\n",
      "WARNING:tensorflow:From /usr/local/lib/python3.6/dist-packages/keras/backend/tensorflow_backend.py:216: The name tf.is_variable_initialized is deprecated. Please use tf.compat.v1.is_variable_initialized instead.\n",
      "\n",
      "WARNING:tensorflow:From /usr/local/lib/python3.6/dist-packages/keras/backend/tensorflow_backend.py:223: The name tf.variables_initializer is deprecated. Please use tf.compat.v1.variables_initializer instead.\n",
      "\n",
      "10000/10000 [==============================] - 3s 287us/step - loss: 2.1435 - acc: 0.2213 - val_loss: 2.0944 - val_acc: 0.2462\n",
      "Epoch 2/20\n",
      "10000/10000 [==============================] - 2s 244us/step - loss: 2.0331 - acc: 0.2638 - val_loss: 2.0215 - val_acc: 0.2633\n",
      "Epoch 3/20\n",
      "10000/10000 [==============================] - 2s 246us/step - loss: 1.9616 - acc: 0.2917 - val_loss: 1.8760 - val_acc: 0.3223\n",
      "Epoch 4/20\n",
      "10000/10000 [==============================] - 2s 250us/step - loss: 1.8517 - acc: 0.3296 - val_loss: 1.8433 - val_acc: 0.3345\n",
      "Epoch 5/20\n",
      "10000/10000 [==============================] - 3s 250us/step - loss: 1.7750 - acc: 0.3640 - val_loss: 1.7506 - val_acc: 0.3686\n",
      "Epoch 6/20\n",
      "10000/10000 [==============================] - 2s 250us/step - loss: 1.7304 - acc: 0.3872 - val_loss: 1.7181 - val_acc: 0.3787\n",
      "Epoch 7/20\n",
      "10000/10000 [==============================] - 2s 248us/step - loss: 1.6868 - acc: 0.4033 - val_loss: 1.6972 - val_acc: 0.4027\n",
      "Epoch 8/20\n",
      "10000/10000 [==============================] - 2s 249us/step - loss: 1.6424 - acc: 0.4186 - val_loss: 1.6620 - val_acc: 0.4039\n",
      "Epoch 9/20\n",
      "10000/10000 [==============================] - 2s 250us/step - loss: 1.6492 - acc: 0.4150 - val_loss: 1.7036 - val_acc: 0.3830\n",
      "Epoch 10/20\n",
      "10000/10000 [==============================] - 2s 249us/step - loss: 1.6227 - acc: 0.4227 - val_loss: 1.6578 - val_acc: 0.3944\n",
      "Epoch 11/20\n",
      "10000/10000 [==============================] - 2s 246us/step - loss: 1.6129 - acc: 0.4230 - val_loss: 1.6497 - val_acc: 0.3984\n",
      "Epoch 12/20\n",
      "10000/10000 [==============================] - 2s 248us/step - loss: 1.6022 - acc: 0.4262 - val_loss: 1.6360 - val_acc: 0.4124\n",
      "Epoch 13/20\n",
      "10000/10000 [==============================] - 3s 251us/step - loss: 1.5907 - acc: 0.4351 - val_loss: 1.7091 - val_acc: 0.3818\n",
      "Epoch 14/20\n",
      "10000/10000 [==============================] - 3s 250us/step - loss: 1.5857 - acc: 0.4356 - val_loss: 1.6311 - val_acc: 0.4132\n",
      "Epoch 15/20\n",
      "10000/10000 [==============================] - 2s 250us/step - loss: 1.5802 - acc: 0.4367 - val_loss: 1.6478 - val_acc: 0.4079\n",
      "Epoch 16/20\n",
      "10000/10000 [==============================] - 2s 250us/step - loss: 1.5760 - acc: 0.4317 - val_loss: 1.6518 - val_acc: 0.3959\n",
      "Epoch 17/20\n",
      "10000/10000 [==============================] - 2s 249us/step - loss: 1.5699 - acc: 0.4386 - val_loss: 1.6561 - val_acc: 0.4116\n",
      "Epoch 18/20\n",
      "10000/10000 [==============================] - 2s 246us/step - loss: 1.5642 - acc: 0.4392 - val_loss: 1.6370 - val_acc: 0.4063\n",
      "Epoch 19/20\n",
      "10000/10000 [==============================] - 2s 248us/step - loss: 1.5532 - acc: 0.4467 - val_loss: 1.6066 - val_acc: 0.4178\n",
      "Epoch 20/20\n",
      "10000/10000 [==============================] - 2s 249us/step - loss: 1.5485 - acc: 0.4437 - val_loss: 1.6101 - val_acc: 0.4149\n"
     ]
    },
    {
     "data": {
      "text/plain": [
       "<keras.callbacks.History at 0x7f14a06c4ef0>"
      ]
     },
     "execution_count": 16,
     "metadata": {
      "tags": []
     },
     "output_type": "execute_result"
    }
   ],
   "source": [
    "model.fit(X_train, Y_train,\n",
    "          batch_size=batch_size, \n",
    "          nb_epoch=n_epochs,\n",
    "          verbose=1, \n",
    "          validation_data=(X_test, Y_test))"
   ]
  },
  {
   "cell_type": "markdown",
   "metadata": {
    "colab_type": "text",
    "id": "HammW__x6Ogj"
   },
   "source": [
    "## We evaluate the performances of the model on the test data"
   ]
  },
  {
   "cell_type": "code",
   "execution_count": 0,
   "metadata": {
    "colab": {
     "base_uri": "https://localhost:8080/",
     "height": 52
    },
    "colab_type": "code",
    "id": "4IN8633Z6Ogk",
    "outputId": "f5d43f1d-5a69-42b5-e9d7-749914f4643b"
   },
   "outputs": [
    {
     "name": "stdout",
     "output_type": "stream",
     "text": [
      "Test score: 1.6101440740585327\n",
      "Test accuracy: 0.4149\n"
     ]
    }
   ],
   "source": [
    "score = model.evaluate(X_test, Y_test, verbose=False)\n",
    "print('Test score:', score[0])\n",
    "print('Test accuracy:', score[1])"
   ]
  },
  {
   "cell_type": "markdown",
   "metadata": {
    "colab_type": "text",
    "id": "h7f2oRAt6Ogr"
   },
   "source": [
    "Let's take a look at what the network has learned."
   ]
  },
  {
   "cell_type": "code",
   "execution_count": 0,
   "metadata": {
    "colab": {
     "base_uri": "https://localhost:8080/",
     "height": 338
    },
    "colab_type": "code",
    "id": "Gdsd_iDs6Ogt",
    "outputId": "c03040be-82c9-49f6-da67-28740e8d9148"
   },
   "outputs": [
    {
     "data": {
      "image/png": "[encoded data removed]",
      "text/plain": [
       "<Figure size 720x432 with 10 Axes>"
      ]
     },
     "metadata": {
      "tags": []
     },
     "output_type": "display_data"
    }
   ],
   "source": [
    "plt.figure(figsize=(10, 6))\n",
    "for idx,i in enumerate(range(100,110)):\n",
    "    plt.subplot(2, 5, idx+1)\n",
    "    rand_ind = np.random.randint(0,X_test.shape[0])\n",
    "    predicted_class = np.argmax(np.squeeze(model.predict(np.expand_dims(X_test[rand_ind,:,:,:],axis=0))))\n",
    "    plt.imshow(X_test[rand_ind,:,:,:])\n",
    "    plt.title(cifar_10_list[int(predicted_class)])"
   ]
  },
  {
   "cell_type": "markdown",
   "metadata": {
    "colab_type": "text",
    "id": "ZuO1VLtQ6Ogz"
   },
   "source": [
    "## Now, display all (32) trained filters of the first layer\n",
    "\n",
    "We can explore the network parameters easily with Keras. For example ```model.layers``` is a list of the layers of the network. Each element of the network contains the information necessary for this layer. To show the content of a layer i, type :\n",
    "\n",
    "```dir(model.layers[i])```\n",
    "\n",
    "Display all (32) trained filters of the first layer :"
   ]
  },
  {
   "cell_type": "code",
   "execution_count": 0,
   "metadata": {
    "colab": {
     "base_uri": "https://localhost:8080/",
     "height": 427
    },
    "colab_type": "code",
    "id": "3yhaM4cn6Og1",
    "outputId": "7629e4ad-4f4e-4425-9c6b-506ca99fdcc0"
   },
   "outputs": [
    {
     "name": "stdout",
     "output_type": "stream",
     "text": [
      "32\n",
      "(3, 3)\n",
      "(3, 3, 3, 32)\n"
     ]
    },
    {
     "data": {
      "image/png": "[encoded data removed]",
      "text/plain": [
       "<Figure size 720x432 with 32 Axes>"
      ]
     },
     "metadata": {
      "tags": []
     },
     "output_type": "display_data"
    }
   ],
   "source": [
    "print(model.layers[0].filters)\n",
    "print(model.layers[0].kernel_size)\n",
    "print(model.layers[0].get_weights()[0].shape)\n",
    "plt.figure(figsize=(10, 6))\n",
    "for num in range(0,32):\n",
    "    plt.subplot(8, 4, num+1)\n",
    "    plt.imshow(model.layers[0].get_weights()[0][:,:,0,num])"
   ]
  }
 ],
 "metadata": {
  "accelerator": "GPU",
  "colab": {
   "collapsed_sections": [],
   "name": "tp_deep_learning_cnn_part_1_for_students.ipynb",
   "provenance": []
  },
  "kernelspec": {
   "display_name": "Python 3",
   "language": "python",
   "name": "python3"
  },
  "language_info": {
   "codemirror_mode": {
    "name": "ipython",
    "version": 3
   },
   "file_extension": ".py",
   "mimetype": "text/x-python",
   "name": "python",
   "nbconvert_exporter": "python",
   "pygments_lexer": "ipython3",
   "version": "3.7.0"
  }
 },
 "nbformat": 4,
 "nbformat_minor": 1
}
